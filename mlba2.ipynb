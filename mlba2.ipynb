{
  "nbformat": 4,
  "nbformat_minor": 0,
  "metadata": {
    "colab": {
      "provenance": []
    },
    "kernelspec": {
      "name": "python3",
      "display_name": "Python 3"
    },
    "language_info": {
      "name": "python"
    }
  },
  "cells": [
    {
      "cell_type": "code",
      "execution_count": 5,
      "metadata": {
        "colab": {
          "base_uri": "https://localhost:8080/"
        },
        "id": "ktRb0nwb56rz",
        "outputId": "7c5cd6be-db43-490a-9c30-63b7ed4e9f48"
      },
      "outputs": [
        {
          "output_type": "stream",
          "name": "stdout",
          "text": [
            "Warning: Looks like you're using an outdated `kagglehub` version (installed: 0.3.9), please consider upgrading to the latest version (0.3.10).\n",
            "Downloading from https://www.kaggle.com/api/v1/datasets/download/paultimothymooney/chest-xray-pneumonia?dataset_version_number=2...\n"
          ]
        },
        {
          "output_type": "stream",
          "name": "stderr",
          "text": [
            "100%|██████████| 2.29G/2.29G [00:21<00:00, 115MB/s]"
          ]
        },
        {
          "output_type": "stream",
          "name": "stdout",
          "text": [
            "Extracting files...\n"
          ]
        },
        {
          "output_type": "stream",
          "name": "stderr",
          "text": [
            "\n",
            "Epoch 1/5: 100%|██████████| 163/163 [02:40<00:00,  1.02it/s]\n"
          ]
        },
        {
          "output_type": "stream",
          "name": "stdout",
          "text": [
            "Epoch 1: Acc=91.47%, F1=0.9434\n"
          ]
        },
        {
          "output_type": "stream",
          "name": "stderr",
          "text": [
            "Epoch 2/5: 100%|██████████| 163/163 [02:39<00:00,  1.02it/s]\n"
          ]
        },
        {
          "output_type": "stream",
          "name": "stdout",
          "text": [
            "Epoch 2: Acc=96.68%, F1=0.9777\n"
          ]
        },
        {
          "output_type": "stream",
          "name": "stderr",
          "text": [
            "Epoch 3/5: 100%|██████████| 163/163 [02:40<00:00,  1.02it/s]\n"
          ]
        },
        {
          "output_type": "stream",
          "name": "stdout",
          "text": [
            "Epoch 3: Acc=97.45%, F1=0.9828\n"
          ]
        },
        {
          "output_type": "stream",
          "name": "stderr",
          "text": [
            "Epoch 4/5: 100%|██████████| 163/163 [02:39<00:00,  1.02it/s]\n"
          ]
        },
        {
          "output_type": "stream",
          "name": "stdout",
          "text": [
            "Epoch 4: Acc=98.10%, F1=0.9872\n"
          ]
        },
        {
          "output_type": "stream",
          "name": "stderr",
          "text": [
            "Epoch 5/5: 100%|██████████| 163/163 [02:41<00:00,  1.01it/s]\n"
          ]
        },
        {
          "output_type": "stream",
          "name": "stdout",
          "text": [
            "Epoch 5: Acc=98.24%, F1=0.9881\n",
            "Final Test Results: Acc=75.64%, F1=0.8362\n"
          ]
        }
      ],
      "source": [
        "import torch\n",
        "import kagglehub\n",
        "import torch.nn as nn\n",
        "from torchvision import transforms\n",
        "from torchvision.datasets import ImageFolder\n",
        "from torch.utils.data import DataLoader\n",
        "from tqdm import tqdm\n",
        "from sklearn.metrics import f1_score, accuracy_score\n",
        "import torch.optim as optim\n",
        "\n",
        "# Download dataset\n",
        "path = kagglehub.dataset_download(\"paultimothymooney/chest-xray-pneumonia\")\n",
        "train_path = f'{path}/chest_xray/train/'\n",
        "test_path = f'{path}/chest_xray/test/'\n",
        "\n",
        "# Image transformations\n",
        "transform = transforms.Compose([\n",
        "    transforms.Resize((128, 128)),\n",
        "    transforms.ToTensor(),\n",
        "    transforms.Normalize(mean=[0.5], std=[0.5])\n",
        "])\n",
        "\n",
        "# Datasets and DataLoaders\n",
        "num_batches = 32\n",
        "train_dataset = ImageFolder(root=train_path, transform=transform)\n",
        "train_loader = DataLoader(dataset=train_dataset, batch_size=num_batches, shuffle=True)\n",
        "\n",
        "test_dataset = ImageFolder(root=test_path, transform=transform)\n",
        "test_loader = DataLoader(dataset=test_dataset, batch_size=num_batches, shuffle=True)\n",
        "\n",
        "# CNN Model\n",
        "class PneumoniaCNN(nn.Module):\n",
        "    def __init__(self):\n",
        "        super(PneumoniaCNN, self).__init__()\n",
        "        self.conv_layer = nn.Sequential(\n",
        "            nn.Conv2d(3, 16, kernel_size=3, stride=1, padding=1),\n",
        "            nn.ReLU(),\n",
        "            nn.MaxPool2d(kernel_size=2, stride=2),\n",
        "            nn.Conv2d(16, 32, kernel_size=3, stride=1, padding=1),\n",
        "            nn.ReLU(),\n",
        "            nn.MaxPool2d(kernel_size=2, stride=2)\n",
        "        )\n",
        "        self.fc_layer = nn.Sequential(\n",
        "            nn.Linear(32 * 32 * 32, 128),\n",
        "            nn.ReLU(),\n",
        "            nn.Linear(128, 1),\n",
        "            nn.Sigmoid()\n",
        "        )\n",
        "\n",
        "    def forward(self, x):\n",
        "        x = self.conv_layer(x)\n",
        "        x = x.view(x.size(0), -1)\n",
        "        x = self.fc_layer(x)\n",
        "        return x.squeeze()\n",
        "\n",
        "# Forward pass processing\n",
        "def process_forward_pass(model, batch, criterion):\n",
        "    images, labels = batch\n",
        "    labels = labels.float()\n",
        "    outputs = model(images)\n",
        "    loss = criterion(outputs, labels)\n",
        "    preds = (outputs >= 0.5).float()\n",
        "    return loss, preds, labels\n",
        "\n",
        "# Training loop\n",
        "def train(model, train_loader, criterion, optimizer, epochs):\n",
        "    model.train()\n",
        "    for epoch in range(epochs):\n",
        "        all_preds, all_labels = [], []\n",
        "        for batch in tqdm(train_loader, desc=f\"Epoch {epoch + 1}/{epochs}\"):\n",
        "            optimizer.zero_grad()\n",
        "            loss, preds, labels = process_forward_pass(model, batch, criterion)\n",
        "            loss.backward()\n",
        "            optimizer.step()\n",
        "\n",
        "            all_preds.extend(preds.cpu().numpy())\n",
        "            all_labels.extend(labels.cpu().numpy())\n",
        "\n",
        "        accuracy = accuracy_score(all_labels, all_preds)\n",
        "        f1 = f1_score(all_labels, all_preds)\n",
        "        print(f\"Epoch {epoch + 1}: Acc={accuracy * 100:.2f}%, F1={f1:.4f}\")\n",
        "\n",
        "# Testing loop\n",
        "def test(model, test_loader, criterion):\n",
        "    model.eval()\n",
        "    all_preds, all_labels = [], []\n",
        "    with torch.no_grad():\n",
        "        for batch in test_loader:\n",
        "            loss, preds, labels = process_forward_pass(model, batch, criterion)\n",
        "            all_preds.extend(preds.cpu().numpy())\n",
        "            all_labels.extend(labels.cpu().numpy())\n",
        "\n",
        "    accuracy = accuracy_score(all_labels, all_preds)\n",
        "    f1 = f1_score(all_labels, all_preds)\n",
        "    print(f\"Final Test Results: Acc={accuracy * 100:.2f}%, F1={f1:.4f}\")\n",
        "\n",
        "# Initialize model, criterion, and optimizer\n",
        "model = PneumoniaCNN()\n",
        "criterion = nn.BCELoss()\n",
        "optimizer = optim.Adam(model.parameters(), lr=0.001, weight_decay=1e-5)\n",
        "\n",
        "# Train and test\n",
        "train(model, train_loader, criterion, optimizer, epochs=5)\n",
        "test(model, test_loader, criterion)\n"
      ]
    }
  ]
}