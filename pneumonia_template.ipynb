{
  "metadata": {
    "kernelspec": {
      "language": "python",
      "display_name": "Python 3",
      "name": "python3"
    },
    "language_info": {
      "name": "python",
      "version": "3.10.12",
      "mimetype": "text/x-python",
      "codemirror_mode": {
        "name": "ipython",
        "version": 3
      },
      "pygments_lexer": "ipython3",
      "nbconvert_exporter": "python",
      "file_extension": ".py"
    },
    "kaggle": {
      "accelerator": "none",
      "dataSources": [],
      "dockerImageVersionId": 30839,
      "isInternetEnabled": true,
      "language": "python",
      "sourceType": "notebook",
      "isGpuEnabled": false
    },
    "colab": {
      "provenance": []
    }
  },
  "nbformat_minor": 0,
  "nbformat": 4,
  "cells": [
    {
      "cell_type": "markdown",
      "source": [
        "### 🔍 Objective:\n",
        "This project will **introduce you to CNNs**.\n",
        "\n",
        "### 📌 What You’ll Do:\n",
        "1. Define suitable transforms/augmentations for your `train` and `test` images.\n",
        "2. Pass these images into PyTorch `DataLoaders` for batch processing.\n",
        "3. Implement `CNN` class architecture for pneumonia image classification.\n",
        "4. Train and validate your model.\n",
        "\n",
        "💡 **PLEASE PLEASE PLEASE look things up!!! This is YOUR learning experience.**\n",
        "\n",
        "---"
      ],
      "metadata": {
        "id": "foT8pth--QfY"
      }
    },
    {
      "cell_type": "code",
      "source": [
        "import torch\n",
        "import kagglehub\n",
        "import torch.nn as nn\n",
        "\n",
        "path = kagglehub.dataset_download(\"paultimothymooney/chest-xray-pneumonia\")\n",
        "\n",
        "train_path = f'{path}/chest_xray/train/'\n",
        "test_path = f'{path}/chest_xray/test/'"
      ],
      "metadata": {
        "trusted": true,
        "execution": {
          "iopub.status.busy": "2025-01-30T23:24:55.964380Z",
          "iopub.execute_input": "2025-01-30T23:24:55.964653Z",
          "iopub.status.idle": "2025-01-30T23:24:59.878536Z",
          "shell.execute_reply.started": "2025-01-30T23:24:55.964628Z",
          "shell.execute_reply": "2025-01-30T23:24:59.877445Z"
        },
        "colab": {
          "base_uri": "https://localhost:8080/"
        },
        "id": "trKjIVza-Qfa",
        "outputId": "c790d573-7a32-4d56-8ee9-b56dfce73094"
      },
      "outputs": [
        {
          "output_type": "stream",
          "name": "stdout",
          "text": [
            "Warning: Looks like you're using an outdated `kagglehub` version (installed: 0.3.6), please consider upgrading to the latest version (0.3.7).\n",
            "Downloading from https://www.kaggle.com/api/v1/datasets/download/paultimothymooney/chest-xray-pneumonia?dataset_version_number=2...\n"
          ]
        },
        {
          "output_type": "stream",
          "name": "stderr",
          "text": [
            "100%|██████████| 2.29G/2.29G [00:34<00:00, 71.0MB/s]"
          ]
        },
        {
          "output_type": "stream",
          "name": "stdout",
          "text": [
            "Extracting files...\n"
          ]
        },
        {
          "output_type": "stream",
          "name": "stderr",
          "text": [
            "\n"
          ]
        }
      ],
      "execution_count": 1
    },
    {
      "cell_type": "markdown",
      "source": [
        "#### 📌 ***TASK 1 - DATA PREPROCESSING***\n",
        "\n",
        "Define image augmentations in the cell below using two variables:  \n",
        "\n",
        "- **`transform_train`**: Stores transforms for training images. You can include any augmentations you prefer.  \n",
        "- **`transform_test`**: Stores transforms for your test images. As a best practice, limit these transformations to only the essential ones from `transform_train`.\n",
        "\n",
        "Lastly, be sure to convert all images to [tensors](https://www.perplexity.ai/search/i-m-a-student-at-naiss-mlb-and-_EL_nBO9TS694cbTEl5M.A) via the `transforms.ToTensor()` transform. Don't know transforms? [Click here](https://pytorch.org/vision/stable/transforms.html)."
      ],
      "metadata": {
        "id": "sCcUi9kd-Qfc"
      }
    },
    {
      "cell_type": "code",
      "source": [
        "from torchvision import transforms\n",
        "\n",
        "..."
      ],
      "metadata": {
        "trusted": true,
        "id": "jQXXGPKj-Qfc"
      },
      "outputs": [],
      "execution_count": null
    },
    {
      "cell_type": "markdown",
      "source": [
        "Now, we'll pass our images and transforms into a `DataLoader`, which allows us to train our model in batches.\n",
        "Most of the code is done for you, but [click here](https://www.perplexity.ai/search/i-m-a-student-at-naiss-mlb-and-_EL_nBO9TS694cbTEl5M.A) to learn more."
      ],
      "metadata": {
        "id": "JvBZSzQb-Qfc"
      }
    },
    {
      "cell_type": "code",
      "source": [
        "from torchvision.datasets import ImageFolder\n",
        "from torch.utils.data import DataLoader\n",
        "\n",
        "num_batches = 32  # Feel free to change this\n",
        "\n",
        "train_dataset = ImageFolder(root=train_path, transform=...) # Your Transformed train images\n",
        "train_loader = DataLoader(dataset=..., batch_size=num_batches, shuffle=True)\n",
        "\n",
        "test_dataset = ImageFolder(root=test_path, transform=...) # Your transformed test images\n",
        "test_loader = DataLoader(dataset=..., batch_size=num_batches, shuffle=True)"
      ],
      "metadata": {
        "trusted": true,
        "id": "xZYhbcgA-Qfc"
      },
      "outputs": [],
      "execution_count": null
    },
    {
      "cell_type": "markdown",
      "source": [
        "#### 📌 ***TASK 2 - CNN Architecture***\n",
        "\n",
        "This is where you have all the creative freedom in the world. Here are some good questions to ask yourself:\n",
        "\n",
        "- How many [channels](https://www.perplexity.ai/search/i-m-a-student-at-naiss-mlb-wha-49AG77e4Qp2e7EkARdFsTA) should go into the input layer?\n",
        "- What measures can I take to avoid [overfitting](https://www.perplexity.ai/search/i-m-a-student-at-naiss-mlb-wha-YdAbhqQzRZaEq39BEQzA6w)?\n",
        "- What matters to me? (Training Speed / Performance tradeoffs)\n",
        "- **CONVOLUTION. ACTIVATION FUNCTION. POOLING!!!** 📢📢📢\n",
        "\n",
        "Not comfortable with PyTorch? [Here](https://youtu.be/mozBidd58VQ?si=TE2_81TEQko1eDXT). Go and make me the best [CNN](https://www.datacamp.com/tutorial/introduction-to-convolutional-neural-networks-cnns) I've ever seen :)"
      ],
      "metadata": {
        "id": "YJp8AV-E-Qfd"
      }
    },
    {
      "cell_type": "code",
      "source": [
        "import torch\n",
        "import torch.nn\n",
        "\n",
        "# Remember what Pooling does to feature maps!!!\n",
        "image_width = ...\n",
        "image_height = ...\n",
        "\n",
        "..."
      ],
      "metadata": {
        "trusted": true,
        "id": "j3zGSpyz-Qfd"
      },
      "outputs": [],
      "execution_count": null
    },
    {
      "cell_type": "markdown",
      "source": [
        "#### 📌 ***TASK 3 - DEFINE TRAIN FUNCTION***  \n",
        "\n",
        "Define `process_forward_phase` and `train` to update model weights with each new [epoch/iteration](https://www.perplexity.ai/search/i-m-a-curious-naiss-mlb-studen-7SJECNYrS1iYxUR032dp7A). Here are the steps:\n",
        "\n",
        "- **Forward pass:** Here, our batch is taken through the network to output a prediction (Normal/Pneumonia)\n",
        "- **Backward pass:** The model goes \"What's our loss? Hmmm... Not quite what I want. This means my `weights` aren't adjusted properly. Let me propagate my `loss` backward in hopes of correcting my weights.\"\n",
        "\n",
        "We use **`f1_score`** as the primary metric and also display **`accuracy`** for comparison. Most steps are outlined for you—just follow the structure provided!"
      ],
      "metadata": {
        "id": "LnG4r6aw-Qfe"
      }
    },
    {
      "cell_type": "code",
      "source": [
        "from tqdm import tqdm # Visualize training progress\n",
        "from sklearn.metrics import f1_score, accuracy_score\n",
        "\n",
        "def process_forward_pass(model, batch, criterion):\n",
        "    \"\"\"\n",
        "    This is a helper function to abstract the \"forward\"\n",
        "    phase of the training loop. This function also returns\n",
        "    the loss, predictions, and labels seen in the batch.\n",
        "    \"\"\"\n",
        "\n",
        "    images, labels = batch\n",
        "    labels = labels.float()\n",
        "\n",
        "    ...\n",
        "\n",
        "    return loss, preds, labels\n",
        "\n",
        "def train(model, train_loader, criterion, optimizer, epochs):\n",
        "    ... # Set model to training mode\n",
        "\n",
        "    for epoch in range(...): # Specify the number of iterations to train for\n",
        "        all_preds, all_labels = [], []\n",
        "\n",
        "        for batch in tqdm(train_loader, desc=f\"Epoch {epoch + 1}/{epochs}\"):\n",
        "            optimizer.zero_grad()\n",
        "            loss, preds, labels = process_forward_phase(model, batch, criterion)\n",
        "\n",
        "            ... # (backward phase, upd. weights)\n",
        "\n",
        "            all_preds.extend(preds.numpy())\n",
        "            all_labels.extend(labels.numpy())\n",
        "\n",
        "        accuracy = accuracy_score(all_labels, all_preds)\n",
        "        f1 = f1_score(all_labels, all_preds)\n",
        "\n",
        "        print(f\"Acc={accuracy:.2f}%, F1={f1:.4f}\")"
      ],
      "metadata": {
        "trusted": true,
        "execution": {
          "iopub.status.busy": "2025-02-07T14:38:35.587676Z",
          "iopub.execute_input": "2025-02-07T14:38:35.588043Z",
          "iopub.status.idle": "2025-02-07T14:38:36.250754Z",
          "shell.execute_reply.started": "2025-02-07T14:38:35.588017Z",
          "shell.execute_reply": "2025-02-07T14:38:36.249692Z"
        },
        "id": "Pz9OGUy8-Qfe"
      },
      "outputs": [],
      "execution_count": null
    },
    {
      "cell_type": "markdown",
      "source": [
        "After your model trains, you want to see how well it performs on **unseen data.** Meaning, if this were a live hospital NEEDING your predictions to classify patients with pneumonia, how well would it do?\n",
        "\n",
        "\n",
        "You simply have to run this cell; all the code is implemented for you (Assuming `process_forward_phase` works fine). 😊"
      ],
      "metadata": {
        "id": "Yx9DofPM-Qfe"
      }
    },
    {
      "cell_type": "code",
      "source": [
        "def test(model, test_loader, criterion):\n",
        "    model.eval()\n",
        "    all_preds, all_labels = [], []\n",
        "\n",
        "    with torch.no_grad():\n",
        "        for batch in test_loader:\n",
        "            loss, preds, labels = process_forward_phase(model, batch, criterion)\n",
        "            all_preds.extend(preds.numpy())\n",
        "            all_labels.extend(labels.numpy())\n",
        "\n",
        "    accuracy = accuracy_score(all_labels, all_preds)\n",
        "    f1 = f1_score(all_labels, all_preds)\n",
        "\n",
        "    print(f\"Final Test Results: Acc={accuracy:.2f}%, F1={f1:.4f}\")"
      ],
      "metadata": {
        "trusted": true,
        "execution": {
          "iopub.status.busy": "2025-02-07T13:46:23.454693Z",
          "iopub.execute_input": "2025-02-07T13:46:23.455211Z",
          "iopub.status.idle": "2025-02-07T13:46:23.464758Z",
          "shell.execute_reply.started": "2025-02-07T13:46:23.455043Z",
          "shell.execute_reply": "2025-02-07T13:46:23.463432Z"
        },
        "id": "luq7_sq--Qff"
      },
      "outputs": [],
      "execution_count": null
    },
    {
      "cell_type": "markdown",
      "source": [
        "#### 📌***TASK 4 - TRAIN MODEL***\n",
        "\n",
        "We're close!!! We simply need to instantiate the `model`, define a suitable `criterion` (loss), and use an `optimizer` (thing to speed up backpropagation)."
      ],
      "metadata": {
        "id": "Ykt3cX06-Qff"
      }
    },
    {
      "cell_type": "code",
      "source": [
        "import torch.optim as optim\n",
        "\n",
        "...\n",
        "optimizer = optim.Adam(model.parameters(), lr=..., weight_decay=...) # Weight decay is optional. But is it? 🤔\n",
        "\n",
        "train(model, train_loader, criterion, optimizer, epochs=...)"
      ],
      "metadata": {
        "trusted": true,
        "id": "0P1bdWXr-Qff"
      },
      "outputs": [],
      "execution_count": null
    },
    {
      "cell_type": "markdown",
      "source": [
        "Last step: evaluate your model's performance. Remember, you get **1,000,000** brownie points 🍫 if you beat Adam's **`f1_score:`0.8549**."
      ],
      "metadata": {
        "id": "XInpf_2o-Qff"
      }
    },
    {
      "cell_type": "code",
      "source": [
        "test(model, test_loader, criterion)"
      ],
      "metadata": {
        "trusted": true,
        "id": "sAeAIFf6-Qfg"
      },
      "outputs": [],
      "execution_count": null
    }
  ]
}